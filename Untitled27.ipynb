{
 "cells": [
  {
   "cell_type": "code",
   "execution_count": 1,
   "id": "dc118783",
   "metadata": {},
   "outputs": [],
   "source": [
    "import pandas as pd\n",
    "from sklearn.feature_extraction.text import TfidfVectorizer\n",
    "from sklearn.metrics.pairwise import cosine_similarity"
   ]
  },
  {
   "cell_type": "code",
   "execution_count": null,
   "id": "6b7cf6a0",
   "metadata": {},
   "outputs": [],
   "source": [
    "data = {\n",
    "    'title': ['The Matrix', 'The Lord of the Rings', 'The Godfather', 'Pulp Fiction', 'The Dark Knight'],\n",
    "    'genres': ['Action|Sci-Fi', 'Adventure|Fantasy', 'Crime|Drama', 'Crime|Drama', 'Action|Crime|Drama'],\n",
    "    'description': [\n",
    "        'A computer hacker learns from mysterious rebels about the true nature of his reality and his role in the war against its controllers.',\n",
    "        'A meek Hobbit from the Shire and eight companions set out on a journey to destroy the powerful One Ring and save Middle-earth from the Dark Lord Sauron.',\n",
    "        'The aging patriarch of an organized crime dynasty transfers control of his clandestine empire to his reluctant son.',\n",
    "        'The lives of two mob hitmen, a boxer, a gangster\\'s wife, and a pair of diner bandits intertwine in four tales of violence and redemption.',\n",
    "        'When the menace known as the Joker emerges from his mysterious past, he wreaks havoc and chaos on the people of Gotham.'\n",
    "    ]\n",
    "}\n",
    "movies_df = pd.DataFrame(data)\n",
    "print(movies_df)"
   ]
  },
  {
   "cell_type": "code",
   "execution_count": null,
   "id": "507cddf1",
   "metadata": {},
   "outputs": [],
   "source": [
    "movies_df['features'] = movies_df['genres']+\" : \" + movies_df['description']\n",
    "print(movies_df['features'])"
   ]
  },
  {
   "cell_type": "code",
   "execution_count": null,
   "id": "d4c54e64",
   "metadata": {},
   "outputs": [],
   "source": [
    "tfidf = TfidfVectorizer(stop_words='english')\n",
    "tfidf_matrix = tfidf.fit_transform(movies_df['features'])\n",
    "print(tfidf)\n",
    "print(tfidf_matrix)"
   ]
  },
  {
   "cell_type": "code",
   "execution_count": null,
   "id": "715da928",
   "metadata": {},
   "outputs": [],
   "source": [
    "cosine_sim = cosine_similarity(tfidf_matrix, tfidf_matrix)\n",
    "print(cosine_sim)"
   ]
  },
  {
   "cell_type": "code",
   "execution_count": null,
   "id": "6498c068",
   "metadata": {},
   "outputs": [],
   "source": [
    "def get_recommendations(title, cosine_sim=cosine_sim):\n",
    "    \n",
    "    idx = movies_df[movies_df['title'] == title].index[0]\n",
    "\n",
    "    \n",
    "    sim_scores = list(enumerate(cosine_sim[idx]))\n",
    "\n",
    "\n",
    "    sim_scores = sorted(sim_scores, key=lambda x: x[1], reverse=True)\n",
    "\n",
    "    \n",
    "    sim_scores = sim_scores[1:6]\n",
    "\n",
    "    \n",
    "    movie_indices = [i[0] for i in sim_scores]\n",
    "\n",
    "    \n",
    "    return movies_df['title'].iloc[movie_indices]\n",
    "\n",
    "\n",
    "recommended_movies = get_recommendations('The Matrix')\n",
    "print(\"Recommendations for 'The Matrix':\")\n",
    "for movie in recommended_movies:\n",
    "    print(movie)"
   ]
  }
 ],
 "metadata": {
  "kernelspec": {
   "display_name": "Python 3 (ipykernel)",
   "language": "python",
   "name": "python3"
  },
  "language_info": {
   "codemirror_mode": {
    "name": "ipython",
    "version": 3
   },
   "file_extension": ".py",
   "mimetype": "text/x-python",
   "name": "python",
   "nbconvert_exporter": "python",
   "pygments_lexer": "ipython3",
   "version": "3.10.9"
  }
 },
 "nbformat": 4,
 "nbformat_minor": 5
}
